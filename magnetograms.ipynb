{
 "metadata": {
  "name": "",
  "signature": "sha256:b0001984e1bb2ab3c62b0c249c8cf2709900611081bbb70d9e00c2a7d491d201"
 },
 "nbformat": 3,
 "nbformat_minor": 0,
 "worksheets": [
  {
   "cells": [
    {
     "cell_type": "code",
     "collapsed": false,
     "input": [
      "from time import time\n",
      "import numpy as np\n",
      "import pandas as pd\n",
      "import matplotlib.pyplot as plt\n",
      "import os\n",
      "import Image as im\n",
      "import datetime as dt\n",
      "\n",
      "# Images in file\n",
      "basedir = 'data/all_256/'\n",
      "flist = os.listdir(basedir)\n",
      "num_images = len(flist)\n",
      "\n",
      "# Create mask array to select only within solar disk\n",
      "def make_sun_mask(centre, radius, image_size):\n",
      "    sun_mask = np.zeros([image_size,image_size], dtype=np.uint8)\n",
      "    for i in range(image_size):\n",
      "        for j in range(image_size):\n",
      "            dist = np.sqrt((centre[0] - i)**2 + (centre[1] - j)**2)\n",
      "            if dist<= radius:\n",
      "                sun_mask[i,j] = 1\n",
      "    return sun_mask\n",
      "# Make sun mask\n",
      "# Hi-res images\n",
      "# image_size = 512\n",
      "# centre = (255,255)\n",
      "# radius = 472/2\n",
      "\n",
      "# Low-res images\n",
      "image_size = 256\n",
      "centre = (127,127)\n",
      "radius = 234/2\n",
      "\n",
      "sun_mask = make_sun_mask(centre, radius, image_size)\n",
      "# Flatten array\n",
      "sun_mask = np.ravel(sun_mask)"
     ],
     "language": "python",
     "metadata": {},
     "outputs": [],
     "prompt_number": 1
    },
    {
     "cell_type": "code",
     "collapsed": false,
     "input": [
      "# Initialise arrays\n",
      "years = np.zeros(num_images, dtype=np.int)\n",
      "months = np.zeros(num_images, dtype=np.int)\n",
      "days = np.zeros(num_images, dtype=np.int)\n",
      "hours = np.zeros(num_images, dtype=np.int)\n",
      "minutes = np.zeros(num_images, dtype=np.int)\n",
      "sun_discs = np.zeros([num_images,sum(sun_mask)], dtype=np.int)"
     ],
     "language": "python",
     "metadata": {},
     "outputs": [],
     "prompt_number": 2
    },
    {
     "cell_type": "code",
     "collapsed": false,
     "input": [
      "# Get all vector magnetogram files\n",
      "count = 0\n",
      "for image_file in flist:    \n",
      "    years[count] = image_file[0:4]\n",
      "    months[count] = image_file[4:6]\n",
      "    days[count] = image_file[6:8]\n",
      "    hours[count] = image_file[9:11]\n",
      "    minutes[count] = image_file[11:13]\n",
      "    \n",
      "    cur_file = basedir + image_file  \n",
      "    # Read image, convert to greyscale, convert to np array\n",
      "    cur_image = np.asarray(im.open(cur_file).convert('L'))\n",
      "    cur_image = np.ravel(cur_image)\n",
      "    cur_image = cur_image[sun_mask == 1]\n",
      "    # Use sqrt transform to fix distribution\n",
      "    sun_discs[count,:] = np.sqrt(cur_image)\n",
      "    if count%1000 == 0 and count > 0:\n",
      "        print str(count) + ' of ' + str(num_images) +' , File: '+ image_file \n",
      "    count +=1 \n",
      "print 'Done'"
     ],
     "language": "python",
     "metadata": {},
     "outputs": [
      {
       "output_type": "stream",
       "stream": "stdout",
       "text": [
        "1000 of 126144 , File: 20100511_113000_M_256.jpg\n",
        "2000 of 126144 , File: 20100521_234500_M_256.jpg"
       ]
      },
      {
       "output_type": "stream",
       "stream": "stdout",
       "text": [
        "\n",
        "3000 of 126144 , File: 20100601_110000_M_256.jpg"
       ]
      },
      {
       "output_type": "stream",
       "stream": "stdout",
       "text": [
        "\n",
        "4000 of 126144 , File: 20100611_211500_M_256.jpg"
       ]
      },
      {
       "output_type": "stream",
       "stream": "stdout",
       "text": [
        "\n",
        "5000 of 126144 , File: 20100622_071500_M_256.jpg"
       ]
      },
      {
       "output_type": "stream",
       "stream": "stdout",
       "text": [
        "\n",
        "6000 of 126144 , File: 20100702_180000_M_256.jpg"
       ]
      },
      {
       "output_type": "stream",
       "stream": "stdout",
       "text": [
        "\n",
        "7000 of 126144 , File: 20100713_051500_M_256.jpg"
       ]
      },
      {
       "output_type": "stream",
       "stream": "stdout",
       "text": [
        "\n",
        "8000 of 126144 , File: 20100724_091500_M_256.jpg"
       ]
      },
      {
       "output_type": "stream",
       "stream": "stdout",
       "text": [
        "\n",
        "9000 of 126144 , File: 20100803_193000_M_256.jpg"
       ]
      },
      {
       "output_type": "stream",
       "stream": "stdout",
       "text": [
        "\n",
        "10000 of 126144 , File: 20100814_054500_M_256.jpg"
       ]
      },
      {
       "output_type": "stream",
       "stream": "stdout",
       "text": [
        "\n",
        "11000 of 126144 , File: 20100824_161500_M_256.jpg"
       ]
      },
      {
       "output_type": "stream",
       "stream": "stdout",
       "text": [
        "\n",
        "12000 of 126144 , File: 20100904_034500_M_256.jpg"
       ]
      },
      {
       "output_type": "stream",
       "stream": "stdout",
       "text": [
        "\n",
        "13000 of 126144 , File: 20100914_150000_M_256.jpg"
       ]
      },
      {
       "output_type": "stream",
       "stream": "stdout",
       "text": [
        "\n",
        "14000 of 126144 , File: 20100926_030000_M_256.jpg"
       ]
      },
      {
       "output_type": "stream",
       "stream": "stdout",
       "text": [
        "\n",
        "15000 of 126144 , File: 20101008_011500_M_256.jpg"
       ]
      },
      {
       "output_type": "stream",
       "stream": "stdout",
       "text": [
        "\n",
        "16000 of 126144 , File: 20101018_140000_M_256.jpg"
       ]
      },
      {
       "output_type": "stream",
       "stream": "stdout",
       "text": [
        "\n",
        "17000 of 126144 , File: 20101029_063000_M_256.jpg"
       ]
      },
      {
       "output_type": "stream",
       "stream": "stdout",
       "text": [
        "\n",
        "18000 of 126144 , File: 20101109_023000_M_256.jpg"
       ]
      },
      {
       "output_type": "stream",
       "stream": "stdout",
       "text": [
        "\n",
        "19000 of 126144 , File: 20101119_130000_M_256.jpg"
       ]
      },
      {
       "output_type": "stream",
       "stream": "stdout",
       "text": [
        "\n",
        "20000 of 126144 , File: 20101129_230000_M_256.jpg"
       ]
      },
      {
       "output_type": "stream",
       "stream": "stdout",
       "text": [
        "\n",
        "21000 of 126144 , File: 20101210_103000_M_256.jpg"
       ]
      },
      {
       "output_type": "stream",
       "stream": "stdout",
       "text": [
        "\n",
        "22000 of 126144 , File: 20101221_114500_M_256.jpg"
       ]
      },
      {
       "output_type": "stream",
       "stream": "stdout",
       "text": [
        "\n",
        "23000 of 126144 , File: 20110101_184500_M_256.jpg"
       ]
      },
      {
       "output_type": "stream",
       "stream": "stdout",
       "text": [
        "\n",
        "24000 of 126144 , File: 20110112_073000_M_256.jpg"
       ]
      },
      {
       "output_type": "stream",
       "stream": "stdout",
       "text": [
        "\n",
        "25000 of 126144 , File: 20110123_004500_M_256.jpg"
       ]
      },
      {
       "output_type": "stream",
       "stream": "stdout",
       "text": [
        "\n",
        "26000 of 126144 , File: 20110202_194500_M_256.jpg"
       ]
      },
      {
       "output_type": "stream",
       "stream": "stdout",
       "text": [
        "\n",
        "27000 of 126144 , File: 20110213_060000_M_256.jpg"
       ]
      },
      {
       "output_type": "stream",
       "stream": "stdout",
       "text": [
        "\n",
        "28000 of 126144 , File: 20110223_170000_M_256.jpg"
       ]
      },
      {
       "output_type": "stream",
       "stream": "stdout",
       "text": [
        "\n",
        "29000 of 126144 , File: 20110306_050000_M_256.jpg"
       ]
      },
      {
       "output_type": "stream",
       "stream": "stdout",
       "text": [
        "\n",
        "30000 of 126144 , File: 20110316_220000_M_256.jpg"
       ]
      },
      {
       "output_type": "stream",
       "stream": "stdout",
       "text": [
        "\n",
        "31000 of 126144 , File: 20110328_030000_M_256.jpg"
       ]
      },
      {
       "output_type": "stream",
       "stream": "stdout",
       "text": [
        "\n",
        "32000 of 126144 , File: 20110408_044500_M_256.jpg"
       ]
      },
      {
       "output_type": "stream",
       "stream": "stdout",
       "text": [
        "\n",
        "33000 of 126144 , File: 20110418_234500_M_256.jpg"
       ]
      },
      {
       "output_type": "stream",
       "stream": "stdout",
       "text": [
        "\n",
        "34000 of 126144 , File: 20110429_163000_M_256.jpg"
       ]
      },
      {
       "output_type": "stream",
       "stream": "stdout",
       "text": [
        "\n",
        "35000 of 126144 , File: 20110510_031500_M_256.jpg"
       ]
      },
      {
       "output_type": "stream",
       "stream": "stdout",
       "text": [
        "\n",
        "36000 of 126144 , File: 20110520_131500_M_256.jpg"
       ]
      },
      {
       "output_type": "stream",
       "stream": "stdout",
       "text": [
        "\n",
        "37000 of 126144 , File: 20110531_001500_M_256.jpg"
       ]
      },
      {
       "output_type": "stream",
       "stream": "stdout",
       "text": [
        "\n",
        "38000 of 126144 , File: 20110610_101500_M_256.jpg"
       ]
      },
      {
       "output_type": "stream",
       "stream": "stdout",
       "text": [
        "\n",
        "39000 of 126144 , File: 20110620_201500_M_256.jpg"
       ]
      },
      {
       "output_type": "stream",
       "stream": "stdout",
       "text": [
        "\n",
        "40000 of 126144 , File: 20110701_074500_M_256.jpg"
       ]
      },
      {
       "output_type": "stream",
       "stream": "stdout",
       "text": [
        "\n",
        "41000 of 126144 , File: 20110711_180000_M_256.jpg"
       ]
      },
      {
       "output_type": "stream",
       "stream": "stdout",
       "text": [
        "\n",
        "42000 of 126144 , File: 20110722_144500_M_256.jpg"
       ]
      },
      {
       "output_type": "stream",
       "stream": "stdout",
       "text": [
        "\n",
        "43000 of 126144 , File: 20110802_020000_M_256.jpg"
       ]
      },
      {
       "output_type": "stream",
       "stream": "stdout",
       "text": [
        "\n",
        "44000 of 126144 , File: 20110812_124500_M_256.jpg"
       ]
      },
      {
       "output_type": "stream",
       "stream": "stdout",
       "text": [
        "\n",
        "45000 of 126144 , File: 20110822_224500_M_256.jpg"
       ]
      },
      {
       "output_type": "stream",
       "stream": "stdout",
       "text": [
        "\n",
        "46000 of 126144 , File: 20110902_104500_M_256.jpg"
       ]
      },
      {
       "output_type": "stream",
       "stream": "stdout",
       "text": [
        "\n",
        "47000 of 126144 , File: 20110912_221500_M_256.jpg"
       ]
      },
      {
       "output_type": "stream",
       "stream": "stdout",
       "text": [
        "\n",
        "48000 of 126144 , File: 20110924_020000_M_256.jpg"
       ]
      },
      {
       "output_type": "stream",
       "stream": "stdout",
       "text": [
        "\n",
        "49000 of 126144 , File: 20111005_134500_M_256.jpg"
       ]
      },
      {
       "output_type": "stream",
       "stream": "stdout",
       "text": [
        "\n",
        "50000 of 126144 , File: 20111016_021500_M_256.jpg"
       ]
      },
      {
       "output_type": "stream",
       "stream": "stdout",
       "text": [
        "\n",
        "51000 of 126144 , File: 20111026_181500_M_256.jpg"
       ]
      },
      {
       "output_type": "stream",
       "stream": "stdout",
       "text": [
        "\n",
        "52000 of 126144 , File: 20111106_091500_M_256.jpg"
       ]
      },
      {
       "output_type": "stream",
       "stream": "stdout",
       "text": [
        "\n",
        "53000 of 126144 , File: 20111116_203000_M_256.jpg"
       ]
      },
      {
       "output_type": "stream",
       "stream": "stdout",
       "text": [
        "\n",
        "54000 of 126144 , File: 20111127_064500_M_256.jpg"
       ]
      },
      {
       "output_type": "stream",
       "stream": "stdout",
       "text": [
        "\n",
        "55000 of 126144 , File: 20111207_180000_M_256.jpg"
       ]
      },
      {
       "output_type": "stream",
       "stream": "stdout",
       "text": [
        "\n",
        "56000 of 126144 , File: 20111218_053000_M_256.jpg"
       ]
      },
      {
       "output_type": "stream",
       "stream": "stdout",
       "text": [
        "\n",
        "57000 of 126144 , File: 20111228_164500_M_256.jpg"
       ]
      },
      {
       "output_type": "stream",
       "stream": "stdout",
       "text": [
        "\n",
        "58000 of 126144 , File: 20120108_034500_M_256.jpg"
       ]
      },
      {
       "output_type": "stream",
       "stream": "stdout",
       "text": [
        "\n",
        "59000 of 126144 , File: 20120119_014500_M_256.jpg"
       ]
      },
      {
       "output_type": "stream",
       "stream": "stdout",
       "text": [
        "\n",
        "60000 of 126144 , File: 20120129_120000_M_256.jpg"
       ]
      },
      {
       "output_type": "stream",
       "stream": "stdout",
       "text": [
        "\n",
        "61000 of 126144 , File: 20120208_220000_M_256.jpg"
       ]
      },
      {
       "output_type": "stream",
       "stream": "stdout",
       "text": [
        "\n",
        "62000 of 126144 , File: 20120219_080000_M_256.jpg"
       ]
      },
      {
       "output_type": "stream",
       "stream": "stdout",
       "text": [
        "\n",
        "63000 of 126144 , File: 20120229_194500_M_256.jpg"
       ]
      },
      {
       "output_type": "stream",
       "stream": "stdout",
       "text": [
        "\n",
        "64000 of 126144 , File: 20120311_131500_M_256.jpg"
       ]
      },
      {
       "output_type": "stream",
       "stream": "stdout",
       "text": [
        "\n",
        "65000 of 126144 , File: 20120323_011500_M_256.jpg"
       ]
      },
      {
       "output_type": "stream",
       "stream": "stdout",
       "text": [
        "\n",
        "66000 of 126144 , File: 20120403_044500_M_256.jpg"
       ]
      },
      {
       "output_type": "stream",
       "stream": "stdout",
       "text": [
        "\n",
        "67000 of 126144 , File: 20120414_020000_M_256.jpg"
       ]
      },
      {
       "output_type": "stream",
       "stream": "stdout",
       "text": [
        "\n",
        "68000 of 126144 , File: 20120424_181500_M_256.jpg"
       ]
      },
      {
       "output_type": "stream",
       "stream": "stdout",
       "text": [
        "\n",
        "69000 of 126144 , File: 20120505_043000_M_256.jpg"
       ]
      },
      {
       "output_type": "stream",
       "stream": "stdout",
       "text": [
        "\n",
        "70000 of 126144 , File: 20120515_144500_M_256.jpg"
       ]
      },
      {
       "output_type": "stream",
       "stream": "stdout",
       "text": [
        "\n",
        "71000 of 126144 , File: 20120526_004500_M_256.jpg"
       ]
      },
      {
       "output_type": "stream",
       "stream": "stdout",
       "text": [
        "\n",
        "72000 of 126144 , File: 20120605_110000_M_256.jpg"
       ]
      },
      {
       "output_type": "stream",
       "stream": "stdout",
       "text": [
        "\n",
        "73000 of 126144 , File: 20120615_210000_M_256.jpg"
       ]
      },
      {
       "output_type": "stream",
       "stream": "stdout",
       "text": [
        "\n",
        "74000 of 126144 , File: 20120626_070000_M_256.jpg"
       ]
      },
      {
       "output_type": "stream",
       "stream": "stdout",
       "text": [
        "\n",
        "75000 of 126144 , File: 20120706_173000_M_256.jpg"
       ]
      },
      {
       "output_type": "stream",
       "stream": "stdout",
       "text": [
        "\n",
        "76000 of 126144 , File: 20120717_084500_M_256.jpg"
       ]
      },
      {
       "output_type": "stream",
       "stream": "stdout",
       "text": [
        "\n",
        "77000 of 126144 , File: 20120728_010000_M_256.jpg"
       ]
      },
      {
       "output_type": "stream",
       "stream": "stdout",
       "text": [
        "\n",
        "78000 of 126144 , File: 20120807_110000_M_256.jpg"
       ]
      },
      {
       "output_type": "stream",
       "stream": "stdout",
       "text": [
        "\n",
        "79000 of 126144 , File: 20120817_210000_M_256.jpg"
       ]
      },
      {
       "output_type": "stream",
       "stream": "stdout",
       "text": [
        "\n",
        "80000 of 126144 , File: 20120828_071500_M_256.jpg"
       ]
      },
      {
       "output_type": "stream",
       "stream": "stdout",
       "text": [
        "\n",
        "81000 of 126144 , File: 20120907_193000_M_256.jpg"
       ]
      },
      {
       "output_type": "stream",
       "stream": "stdout",
       "text": [
        "\n",
        "82000 of 126144 , File: 20120919_034500_M_256.jpg"
       ]
      },
      {
       "output_type": "stream",
       "stream": "stdout",
       "text": [
        "\n",
        "83000 of 126144 , File: 20120930_110000_M_256.jpg"
       ]
      },
      {
       "output_type": "stream",
       "stream": "stdout",
       "text": [
        "\n",
        "84000 of 126144 , File: 20121011_050000_M_256.jpg"
       ]
      },
      {
       "output_type": "stream",
       "stream": "stdout",
       "text": [
        "\n",
        "85000 of 126144 , File: 20121021_204500_M_256.jpg"
       ]
      },
      {
       "output_type": "stream",
       "stream": "stdout",
       "text": [
        "\n",
        "86000 of 126144 , File: 20121101_071500_M_256.jpg"
       ]
      },
      {
       "output_type": "stream",
       "stream": "stdout",
       "text": [
        "\n",
        "87000 of 126144 , File: 20121111_173000_M_256.jpg"
       ]
      },
      {
       "output_type": "stream",
       "stream": "stdout",
       "text": [
        "\n",
        "88000 of 126144 , File: 20121122_033000_M_256.jpg"
       ]
      },
      {
       "output_type": "stream",
       "stream": "stdout",
       "text": [
        "\n",
        "89000 of 126144 , File: 20121202_134500_M_256.jpg"
       ]
      },
      {
       "output_type": "stream",
       "stream": "stdout",
       "text": [
        "\n",
        "90000 of 126144 , File: 20121213_001500_M_256.jpg"
       ]
      },
      {
       "output_type": "stream",
       "stream": "stdout",
       "text": [
        "\n",
        "91000 of 126144 , File: 20121223_120000_M_256.jpg"
       ]
      },
      {
       "output_type": "stream",
       "stream": "stdout",
       "text": [
        "\n",
        "92000 of 126144 , File: 20130102_231500_M_256.jpg"
       ]
      },
      {
       "output_type": "stream",
       "stream": "stdout",
       "text": [
        "\n",
        "93000 of 126144 , File: 20130113_093000_M_256.jpg"
       ]
      },
      {
       "output_type": "stream",
       "stream": "stdout",
       "text": [
        "\n",
        "94000 of 126144 , File: 20130124_010000_M_256.jpg"
       ]
      },
      {
       "output_type": "stream",
       "stream": "stdout",
       "text": [
        "\n",
        "95000 of 126144 , File: 20130203_184500_M_256.jpg"
       ]
      },
      {
       "output_type": "stream",
       "stream": "stdout",
       "text": [
        "\n",
        "96000 of 126144 , File: 20130214_051500_M_256.jpg"
       ]
      },
      {
       "output_type": "stream",
       "stream": "stdout",
       "text": [
        "\n",
        "97000 of 126144 , File: 20130224_151500_M_256.jpg"
       ]
      },
      {
       "output_type": "stream",
       "stream": "stdout",
       "text": [
        "\n",
        "98000 of 126144 , File: 20130307_093000_M_256.jpg"
       ]
      },
      {
       "output_type": "stream",
       "stream": "stdout",
       "text": [
        "\n",
        "99000 of 126144 , File: 20130318_201500_M_256.jpg"
       ]
      },
      {
       "output_type": "stream",
       "stream": "stdout",
       "text": [
        "\n",
        "100000 of 126144 , File: 20130329_181500_M_256.jpg"
       ]
      },
      {
       "output_type": "stream",
       "stream": "stdout",
       "text": [
        "\n",
        "101000 of 126144 , File: 20130409_071500_M_256.jpg"
       ]
      },
      {
       "output_type": "stream",
       "stream": "stdout",
       "text": [
        "\n",
        "102000 of 126144 , File: 20130420_040000_M_256.jpg"
       ]
      },
      {
       "output_type": "stream",
       "stream": "stdout",
       "text": [
        "\n",
        "103000 of 126144 , File: 20130501_061500_M_256.jpg"
       ]
      },
      {
       "output_type": "stream",
       "stream": "stdout",
       "text": [
        "\n",
        "104000 of 126144 , File: 20130511_163000_M_256.jpg"
       ]
      },
      {
       "output_type": "stream",
       "stream": "stdout",
       "text": [
        "\n",
        "105000 of 126144 , File: 20130522_024500_M_256.jpg"
       ]
      },
      {
       "output_type": "stream",
       "stream": "stdout",
       "text": [
        "\n",
        "106000 of 126144 , File: 20130601_131500_M_256.jpg"
       ]
      },
      {
       "output_type": "stream",
       "stream": "stdout",
       "text": [
        "\n",
        "107000 of 126144 , File: 20130611_233000_M_256.jpg"
       ]
      },
      {
       "output_type": "stream",
       "stream": "stdout",
       "text": [
        "\n",
        "108000 of 126144 , File: 20130622_093000_M_256.jpg"
       ]
      },
      {
       "output_type": "stream",
       "stream": "stdout",
       "text": [
        "\n",
        "109000 of 126144 , File: 20130702_193000_M_256.jpg"
       ]
      },
      {
       "output_type": "stream",
       "stream": "stdout",
       "text": [
        "\n",
        "110000 of 126144 , File: 20130713_053000_M_256.jpg"
       ]
      },
      {
       "output_type": "stream",
       "stream": "stdout",
       "text": [
        "\n",
        "111000 of 126144 , File: 20130723_210000_M_256.jpg"
       ]
      },
      {
       "output_type": "stream",
       "stream": "stdout",
       "text": [
        "\n",
        "112000 of 126144 , File: 20130803_134500_M_256.jpg"
       ]
      },
      {
       "output_type": "stream",
       "stream": "stdout",
       "text": [
        "\n",
        "113000 of 126144 , File: 20130814_011500_M_256.jpg"
       ]
      },
      {
       "output_type": "stream",
       "stream": "stdout",
       "text": [
        "\n",
        "114000 of 126144 , File: 20130824_111500_M_256.jpg"
       ]
      },
      {
       "output_type": "stream",
       "stream": "stdout",
       "text": [
        "\n",
        "115000 of 126144 , File: 20130903_230000_M_256.jpg"
       ]
      },
      {
       "output_type": "stream",
       "stream": "stdout",
       "text": [
        "\n",
        "116000 of 126144 , File: 20130915_101500_M_256.jpg"
       ]
      },
      {
       "output_type": "stream",
       "stream": "stdout",
       "text": [
        "\n",
        "117000 of 126144 , File: 20130926_150000_M_256.jpg"
       ]
      },
      {
       "output_type": "stream",
       "stream": "stdout",
       "text": [
        "\n",
        "118000 of 126144 , File: 20131007_033000_M_256.jpg"
       ]
      },
      {
       "output_type": "stream",
       "stream": "stdout",
       "text": [
        "\n",
        "119000 of 126144 , File: 20131018_014500_M_256.jpg"
       ]
      },
      {
       "output_type": "stream",
       "stream": "stdout",
       "text": [
        "\n",
        "120000 of 126144 , File: 20131028_180000_M_256.jpg"
       ]
      },
      {
       "output_type": "stream",
       "stream": "stdout",
       "text": [
        "\n",
        "121000 of 126144 , File: 20131108_051500_M_256.jpg"
       ]
      },
      {
       "output_type": "stream",
       "stream": "stdout",
       "text": [
        "\n",
        "122000 of 126144 , File: 20131118_151500_M_256.jpg"
       ]
      },
      {
       "output_type": "stream",
       "stream": "stdout",
       "text": [
        "\n",
        "123000 of 126144 , File: 20131129_050000_M_256.jpg"
       ]
      },
      {
       "output_type": "stream",
       "stream": "stdout",
       "text": [
        "\n",
        "124000 of 126144 , File: 20131209_154500_M_256.jpg"
       ]
      },
      {
       "output_type": "stream",
       "stream": "stdout",
       "text": [
        "\n",
        "125000 of 126144 , File: 20131220_020000_M_256.jpg"
       ]
      },
      {
       "output_type": "stream",
       "stream": "stdout",
       "text": [
        "\n",
        "126000 of 126144 , File: 20131230_120000_M_256.jpg"
       ]
      },
      {
       "output_type": "stream",
       "stream": "stdout",
       "text": [
        "\n",
        "Done"
       ]
      },
      {
       "output_type": "stream",
       "stream": "stdout",
       "text": [
        "\n"
       ]
      }
     ],
     "prompt_number": 3
    },
    {
     "cell_type": "code",
     "collapsed": false,
     "input": [
      "#####################################################################################\n",
      "# Import lasco CME catalogue - \n",
      "# Date\n",
      "# Time\n",
      "# Central_PA : Central size [deg] \n",
      "# Width : Angular width [deg]\n",
      "# L_speed : linear speed\n",
      "# 2nd_o_speed : 2nd order speed fit\n",
      "# 2nd_o_speed_20R : 2nd order speed fit @ 20R\n",
      "# Accel : Acceleration\n",
      "# Mass :\n",
      "# KE : Kinetic energy\n",
      "# MPA : Measurement position angle\n",
      "df_cmes = pd.read_csv(\"cme_catalogue.md\",delim_whitespace=True,error_bad_lines =False, warn_bad_lines=False )\n",
      "df_cmes.drop(['Comment1','Comment2', 'Comment3'], axis=1, inplace=True)\n",
      "df_cmes[['year','month','day']] = df_cmes.Date.str.extract('(\\d\\d\\d\\d)/(\\d\\d)/(\\d\\d)')\n",
      "df_cmes[['hour','minute']] = df_cmes.Time.str.extract('(\\d\\d):(\\d\\d)')\n",
      "\n",
      "df_cmes.drop(['Date','Time','KE','Mass','MPA'],axis=1, inplace=True)    \n",
      "df_cmes['CME'] = 1\n",
      "df_cmes['halo'] = df_cmes.Central_PA\n",
      "df_cmes.ix[df_cmes.halo!='Halo', 'halo'] = 0\n",
      "df_cmes.ix[df_cmes.halo=='Halo', 'halo'] = 1\n",
      "df_cmes.ix[df_cmes.Central_PA=='Halo', 'Central_PA'] = 360\n",
      "# Make the features integer\n",
      "for feature in df_cmes.columns:\n",
      "    df_cmes[feature] = df_cmes[feature].astype(int)\n",
      "# Sort all on year -> month->day\n",
      "df_cmes = df_cmes.sort(columns=['year','month','day'])"
     ],
     "language": "python",
     "metadata": {},
     "outputs": [],
     "prompt_number": 4
    },
    {
     "cell_type": "code",
     "collapsed": false,
     "input": [
      "# Make datetime object in a new columns\n",
      "df_cmes['datetime'] = df_cmes.year\n",
      "for index in range(len(df_cmes)):\n",
      "    df_cmes.ix[index,'datetime'] = dt.datetime(df_cmes.ix[index,'year'],\n",
      "                                               df_cmes.ix[index,'month'],\n",
      "                                               df_cmes.ix[index,'day'],\n",
      "                                               df_cmes.ix[index,'hour'],\n",
      "                                               df_cmes.ix[index,'minute'])\n",
      "    "
     ],
     "language": "python",
     "metadata": {},
     "outputs": [],
     "prompt_number": 5
    },
    {
     "cell_type": "code",
     "collapsed": false,
     "input": [
      "# Clip to existing vector magnetogram data\n",
      "df_cmes = df_cmes[(df_cmes.year >= years[0]) & (df_cmes.month >= months[0])]\n",
      "df_cmes = df_cmes[(df_cmes.year <= years[-1]) & (df_cmes.month <= months[-1])]"
     ],
     "language": "python",
     "metadata": {},
     "outputs": [],
     "prompt_number": 6
    },
    {
     "cell_type": "code",
     "collapsed": false,
     "input": [
      "# Empty arrays to list indexes of events\n",
      "cmes = np.zeros(num_images, dtype=np.int)\n",
      "halos = np.zeros(num_images, dtype=np.int)\n",
      "start = 1\n",
      "for index2 in range(0,len(df_cmes)): \n",
      "    cur_row = df_cmes.iloc[index2]\n",
      "    for index in range(start, num_images):        \n",
      "        cur_datetime = dt.datetime(years[index],\n",
      "                                   months[index],\n",
      "                                   days[index],\n",
      "                                   hours[index],\n",
      "                                   minutes[index])\n",
      "       \n",
      "        if cur_datetime > cur_row.datetime:\n",
      "            break\n",
      "    cmes[index-1] = 1\n",
      "    if cur_row.halo == 1:\n",
      "        halos[index-1] = 1 \n",
      "        start = index-1\n",
      "        \n",
      "    if index2%100 == 0 and index2 > 0:\n",
      "        print str(index2) + ' of ' + str(len(df_cmes)) + ' CMEs processed'\n",
      "print 'Done'"
     ],
     "language": "python",
     "metadata": {},
     "outputs": [
      {
       "output_type": "stream",
       "stream": "stdout",
       "text": [
        "100 of 2852 CMEs processed\n",
        "200 of 2852 CMEs processed"
       ]
      },
      {
       "output_type": "stream",
       "stream": "stdout",
       "text": [
        "\n",
        "300 of 2852 CMEs processed"
       ]
      },
      {
       "output_type": "stream",
       "stream": "stdout",
       "text": [
        "\n",
        "400 of 2852 CMEs processed"
       ]
      },
      {
       "output_type": "stream",
       "stream": "stdout",
       "text": [
        "\n",
        "500 of 2852 CMEs processed"
       ]
      },
      {
       "output_type": "stream",
       "stream": "stdout",
       "text": [
        "\n",
        "600 of 2852 CMEs processed"
       ]
      },
      {
       "output_type": "stream",
       "stream": "stdout",
       "text": [
        "\n",
        "700 of 2852 CMEs processed"
       ]
      },
      {
       "output_type": "stream",
       "stream": "stdout",
       "text": [
        "\n",
        "800 of 2852 CMEs processed"
       ]
      },
      {
       "output_type": "stream",
       "stream": "stdout",
       "text": [
        "\n",
        "900 of 2852 CMEs processed"
       ]
      },
      {
       "output_type": "stream",
       "stream": "stdout",
       "text": [
        "\n",
        "1000 of 2852 CMEs processed"
       ]
      },
      {
       "output_type": "stream",
       "stream": "stdout",
       "text": [
        "\n",
        "1100 of 2852 CMEs processed"
       ]
      },
      {
       "output_type": "stream",
       "stream": "stdout",
       "text": [
        "\n",
        "1200 of 2852 CMEs processed"
       ]
      },
      {
       "output_type": "stream",
       "stream": "stdout",
       "text": [
        "\n",
        "1300 of 2852 CMEs processed"
       ]
      },
      {
       "output_type": "stream",
       "stream": "stdout",
       "text": [
        "\n",
        "1400 of 2852 CMEs processed"
       ]
      },
      {
       "output_type": "stream",
       "stream": "stdout",
       "text": [
        "\n",
        "1500 of 2852 CMEs processed"
       ]
      },
      {
       "output_type": "stream",
       "stream": "stdout",
       "text": [
        "\n",
        "1600 of 2852 CMEs processed"
       ]
      },
      {
       "output_type": "stream",
       "stream": "stdout",
       "text": [
        "\n",
        "1700 of 2852 CMEs processed"
       ]
      },
      {
       "output_type": "stream",
       "stream": "stdout",
       "text": [
        "\n",
        "1800 of 2852 CMEs processed"
       ]
      },
      {
       "output_type": "stream",
       "stream": "stdout",
       "text": [
        "\n",
        "1900 of 2852 CMEs processed"
       ]
      },
      {
       "output_type": "stream",
       "stream": "stdout",
       "text": [
        "\n",
        "2000 of 2852 CMEs processed"
       ]
      },
      {
       "output_type": "stream",
       "stream": "stdout",
       "text": [
        "\n",
        "2100 of 2852 CMEs processed"
       ]
      },
      {
       "output_type": "stream",
       "stream": "stdout",
       "text": [
        "\n",
        "2200 of 2852 CMEs processed"
       ]
      },
      {
       "output_type": "stream",
       "stream": "stdout",
       "text": [
        "\n",
        "2300 of 2852 CMEs processed"
       ]
      },
      {
       "output_type": "stream",
       "stream": "stdout",
       "text": [
        "\n",
        "2400 of 2852 CMEs processed"
       ]
      },
      {
       "output_type": "stream",
       "stream": "stdout",
       "text": [
        "\n",
        "2500 of 2852 CMEs processed"
       ]
      },
      {
       "output_type": "stream",
       "stream": "stdout",
       "text": [
        "\n",
        "2600 of 2852 CMEs processed"
       ]
      },
      {
       "output_type": "stream",
       "stream": "stdout",
       "text": [
        "\n",
        "2700 of 2852 CMEs processed"
       ]
      },
      {
       "output_type": "stream",
       "stream": "stdout",
       "text": [
        "\n",
        "2800 of 2852 CMEs processed"
       ]
      },
      {
       "output_type": "stream",
       "stream": "stdout",
       "text": [
        "\n",
        "Done"
       ]
      },
      {
       "output_type": "stream",
       "stream": "stdout",
       "text": [
        "\n"
       ]
      }
     ],
     "prompt_number": 7
    },
    {
     "cell_type": "code",
     "collapsed": false,
     "input": [
      "quiet = np.zeros(num_images, dtype=np.int)\n",
      "# Length of quiet intervals (approx quiet_thresh*15min)\n",
      "quiet_thresh = 10\n",
      "for index in range(num_images-1):\n",
      "    if cmes[index] == 1:\n",
      "        for index2 in range(index+1, num_images):\n",
      "            if cmes[index2] == 1:\n",
      "                break\n",
      "        if (index2-index)/2 >=quiet_thresh:\n",
      "            quiet[index + (index2-index)/2] = 1\n",
      "both = np.array(np.ceil(np.divide([cmes + quiet],2.0)),dtype=np.int)\n",
      "both = both.reshape(both.shape[1])"
     ],
     "language": "python",
     "metadata": {},
     "outputs": [],
     "prompt_number": 8
    },
    {
     "cell_type": "code",
     "collapsed": false,
     "input": [
      "# Create a column of time since the last CME\n",
      "# Note that it's not inclusive, i.e. even if a CME happened\n",
      "# on that datetime we still calculate the time since the next last\n",
      "# CME so that we can use it as a predictor\n",
      "time_since = np.zeros(num_images, dtype=np.int)\n",
      "for index in range(1,num_images):\n",
      "    if cmes[index-1] == 1 or index == 1:\n",
      "        start_datetime = dt.datetime(years[index-1],\n",
      "                                   months[index-1],\n",
      "                                   days[index-1],\n",
      "                                   hours[index-1],\n",
      "                                   minutes[index-1]) \n",
      "    cur_datetime = dt.datetime(years[index],\n",
      "                               months[index],\n",
      "                               days[index],\n",
      "                               hours[index],\n",
      "                               minutes[index]) \n",
      "    time_since[index] = (cur_datetime - start_datetime).seconds"
     ],
     "language": "python",
     "metadata": {},
     "outputs": [],
     "prompt_number": 9
    },
    {
     "cell_type": "code",
     "collapsed": false,
     "input": [
      "print 'Number of pre-CME frames: ' + str(np.sum(cmes))\n",
      "print 'Total number of CMEs: ' + str(sum(df_cmes.CME==1))\n",
      "print 'Number of pre-halo frames: ' + str(np.sum(halos))\n",
      "print 'Total number of halos: ' + str(sum(df_cmes.halo==1))\n",
      "print 'Number of quiet frames: ' + str(np.sum(quiet))\n",
      "print 'Number of cme + quiet frames: ' + str(np.sum(both))"
     ],
     "language": "python",
     "metadata": {},
     "outputs": [
      {
       "output_type": "stream",
       "stream": "stdout",
       "text": [
        "Number of pre-CME frames: 2794\n",
        "Total number of CMEs: 2852\n",
        "Number of pre-halo frames: 134\n",
        "Total number of halos: 134\n",
        "Number of quiet frames: 1431\n",
        "Number of cme + quiet frames: 4225\n"
       ]
      }
     ],
     "prompt_number": 10
    },
    {
     "cell_type": "code",
     "collapsed": false,
     "input": [],
     "language": "python",
     "metadata": {},
     "outputs": [],
     "prompt_number": 10
    },
    {
     "cell_type": "code",
     "collapsed": false,
     "input": [
      "# Un-mask and reshape array for plotting\n",
      "def masked_to_image(masked, sun_mask, image_size):\n",
      "    sun_image = np.zeros([image_size**2])\n",
      "    sun_image[sun_mask==1] = masked\n",
      "    sun_image = sun_image.reshape([image_size, image_size])\n",
      "    return sun_image\n",
      "\n",
      "def plot_gallery(images, titles, h, w):\n",
      "    \"\"\"Helper function to plot a gallery of portraits\"\"\"\n",
      "    n_components = images.shape[0]\n",
      "    n_col = int(np.sqrt(n_components)) + np.ceil(np.sqrt(n_components)%1)\n",
      "    n_row = int(np.sqrt(n_components)) +np.ceil(np.sqrt(n_components)%1)\n",
      "    plt.figure(figsize=(1.8 * n_col, 2.4 * n_row))\n",
      "    plt.subplots_adjust(bottom=0, left=.01, right=.99, top=.90, hspace=0.2, wspace=0.2)\n",
      "    for i in range(n_components):\n",
      "        plt.subplot(n_row, n_col, i + 1)\n",
      "        plt.imshow(images[i,:,:], cmap=plt.cm.gray)\n",
      "        plt.title(titles[i], size=14)\n",
      "        plt.xticks(())\n",
      "        plt.yticks(())"
     ],
     "language": "python",
     "metadata": {},
     "outputs": [],
     "prompt_number": 11
    },
    {
     "cell_type": "code",
     "collapsed": false,
     "input": [
      "# Number of PCA components\n",
      "def plot_PCAS(sun_discs, event_array, n_components, analysis_type):\n",
      "    from sklearn.decomposition import PCA,RandomizedPCA \n",
      "    t0 = time()\n",
      "    if analysis_type == 'PCA':\n",
      "        pca = PCA(n_components=n_components, whiten=True).fit(sun_discs[event_array==1,:])\n",
      "    else:\n",
      "        pca = RandomizedPCA(n_components=n_components,  whiten=True).fit(sun_discs[event_array==1,:])\n",
      "    print(\"done in %0.3fs\" % (time() - t0))\n",
      "    eigensuns = np.zeros([n_components,image_size,image_size])\n",
      "    evr = pca.explained_variance_ratio_\n",
      "    for n in range(n_components):\n",
      "        eigensuns[n,:,:] = masked_to_image((pca.components_)[n,:], sun_mask, image_size)\n",
      "    eigensuns_titles = [\"Eigensun %d (evr=%.4f)\" % (i) for i in zip(range(eigensuns.shape[0]),evr)]\n",
      "    plot_gallery(eigensuns, eigensuns_titles, image_size, image_size)\n",
      "    plt.show()"
     ],
     "language": "python",
     "metadata": {},
     "outputs": [],
     "prompt_number": 12
    },
    {
     "cell_type": "code",
     "collapsed": false,
     "input": [
      "def reduce_dimensionality(array_in, n_components):\n",
      "    from sklearn.decomposition import RandomizedPCA\n",
      "    from sklearn.cross_validation import train_test_split   \n",
      "    X_train = array_in[0:4:array_in.shape[0],:]\n",
      "    pca = RandomizedPCA(n_components=n_components, whiten=True).fit(X_train)\n",
      "    print 'Explained variance ratios: ' + pca.pca.explained_variance_ratio_\n",
      "    X_pca = pca.transform(array_in)\n",
      "    return X_pca"
     ],
     "language": "python",
     "metadata": {},
     "outputs": [],
     "prompt_number": 13
    },
    {
     "cell_type": "code",
     "collapsed": false,
     "input": [
      "sun_discs = reduce_dimensionality(sun_discs,1000)\n",
      "sun_discs.shape"
     ],
     "language": "python",
     "metadata": {},
     "outputs": [
      {
       "ename": "AttributeError",
       "evalue": "'RandomizedPCA' object has no attribute 'pca'",
       "output_type": "pyerr",
       "traceback": [
        "\u001b[0;31m---------------------------------------------------------------------------\u001b[0m\n\u001b[0;31mAttributeError\u001b[0m                            Traceback (most recent call last)",
        "\u001b[0;32m<ipython-input-14-0a929a079aa1>\u001b[0m in \u001b[0;36m<module>\u001b[0;34m()\u001b[0m\n\u001b[0;32m----> 1\u001b[0;31m \u001b[0msun_discs\u001b[0m \u001b[0;34m=\u001b[0m \u001b[0mreduce_dimensionality\u001b[0m\u001b[0;34m(\u001b[0m\u001b[0msun_discs\u001b[0m\u001b[0;34m,\u001b[0m\u001b[0;36m1000\u001b[0m\u001b[0;34m)\u001b[0m\u001b[0;34m\u001b[0m\u001b[0m\n\u001b[0m\u001b[1;32m      2\u001b[0m \u001b[0msun_discs\u001b[0m\u001b[0;34m.\u001b[0m\u001b[0mshape\u001b[0m\u001b[0;34m\u001b[0m\u001b[0m\n",
        "\u001b[0;32m<ipython-input-13-04bc6315cfa4>\u001b[0m in \u001b[0;36mreduce_dimensionality\u001b[0;34m(array_in, n_components)\u001b[0m\n\u001b[1;32m      4\u001b[0m     \u001b[0mX_train\u001b[0m \u001b[0;34m=\u001b[0m \u001b[0marray_in\u001b[0m\u001b[0;34m[\u001b[0m\u001b[0;36m0\u001b[0m\u001b[0;34m:\u001b[0m\u001b[0;36m4\u001b[0m\u001b[0;34m:\u001b[0m\u001b[0marray_in\u001b[0m\u001b[0;34m.\u001b[0m\u001b[0mshape\u001b[0m\u001b[0;34m[\u001b[0m\u001b[0;36m0\u001b[0m\u001b[0;34m]\u001b[0m\u001b[0;34m,\u001b[0m\u001b[0;34m:\u001b[0m\u001b[0;34m]\u001b[0m\u001b[0;34m\u001b[0m\u001b[0m\n\u001b[1;32m      5\u001b[0m     \u001b[0mpca\u001b[0m \u001b[0;34m=\u001b[0m \u001b[0mRandomizedPCA\u001b[0m\u001b[0;34m(\u001b[0m\u001b[0mn_components\u001b[0m\u001b[0;34m=\u001b[0m\u001b[0mn_components\u001b[0m\u001b[0;34m,\u001b[0m \u001b[0mwhiten\u001b[0m\u001b[0;34m=\u001b[0m\u001b[0mTrue\u001b[0m\u001b[0;34m)\u001b[0m\u001b[0;34m.\u001b[0m\u001b[0mfit\u001b[0m\u001b[0;34m(\u001b[0m\u001b[0mX_train\u001b[0m\u001b[0;34m)\u001b[0m\u001b[0;34m\u001b[0m\u001b[0m\n\u001b[0;32m----> 6\u001b[0;31m     \u001b[0;32mprint\u001b[0m \u001b[0;34m'Explained variance ratios: '\u001b[0m \u001b[0;34m+\u001b[0m \u001b[0mpca\u001b[0m\u001b[0;34m.\u001b[0m\u001b[0mpca\u001b[0m\u001b[0;34m.\u001b[0m\u001b[0mexplained_variance_ratio_\u001b[0m\u001b[0;34m\u001b[0m\u001b[0m\n\u001b[0m\u001b[1;32m      7\u001b[0m     \u001b[0mX_pca\u001b[0m \u001b[0;34m=\u001b[0m \u001b[0mpca\u001b[0m\u001b[0;34m.\u001b[0m\u001b[0mtransform\u001b[0m\u001b[0;34m(\u001b[0m\u001b[0marray_in\u001b[0m\u001b[0;34m)\u001b[0m\u001b[0;34m\u001b[0m\u001b[0m\n\u001b[1;32m      8\u001b[0m     \u001b[0;32mreturn\u001b[0m \u001b[0mX_pca\u001b[0m\u001b[0;34m\u001b[0m\u001b[0m\n",
        "\u001b[0;31mAttributeError\u001b[0m: 'RandomizedPCA' object has no attribute 'pca'"
       ]
      }
     ],
     "prompt_number": 14
    },
    {
     "cell_type": "code",
     "collapsed": false,
     "input": [
      "mode = 'save'\n",
      "if mode == 'save':\n",
      "    np.save('data/notebook_data/years',years)\n",
      "    np.save('data/notebook_data/months',months)\n",
      "    np.save('data/notebook_data/days',days)\n",
      "    np.save('data/notebook_data/hours',hours)    \n",
      "    np.save('data/notebook_data/minutes',minutes)\n",
      "    np.save('data/notebook_data/cmes',cmes)\n",
      "    np.save('data/notebook_data/halos',halos)\n",
      "    np.save('data/notebook_data/both',both)\n",
      "    np.save('data/notebook_data/quiet',quiet)\n",
      "    np.save('data/notebook_data/sun_discs',sun_discs)    \n",
      "    np.save('data/notebook_data/time_since',time_since)\n",
      "elif mode=='load':\n",
      "    np.load('data/notebook_data/years',years)\n",
      "    np.load('data/notebook_data/months',months)\n",
      "    np.load('data/notebook_data/days',days)\n",
      "    np.load('data/notebook_data/hours',hours)    \n",
      "    np.load('data/notebook_data/minutes',minutes)\n",
      "    np.load('data/notebook_data/cmes',cmes)\n",
      "    np.load('data/notebook_data/halos',halos)\n",
      "    np.load('data/notebook_data/both',both)\n",
      "    np.load('data/notebook_data/quiet',quiet)\n",
      "    np.load('data/notebook_data/sun_discs',sun_discs)    \n",
      "    np.load('data/notebook_data/time_since',time_since)    "
     ],
     "language": "python",
     "metadata": {},
     "outputs": []
    },
    {
     "cell_type": "code",
     "collapsed": false,
     "input": [
      "training_X = np.concatenate((sun_discs, np.reshape(time_since, [time_since.shape[0],1])), axis = 1)\n",
      "training_y = cmes\n",
      "print (training_X.shape), (training_y.shape)"
     ],
     "language": "python",
     "metadata": {},
     "outputs": []
    },
    {
     "cell_type": "code",
     "collapsed": false,
     "input": [
      "from sklearn import metrics\n",
      "from sklearn.cross_validation import train_test_split\n",
      "from sklearn.metrics import classification_report\n",
      "X_split1, X_split2, y_split1, y_split2 = train_test_split(training_X, training_y, test_size=0.30, random_state = 30)"
     ],
     "language": "python",
     "metadata": {},
     "outputs": []
    },
    {
     "cell_type": "code",
     "collapsed": false,
     "input": [
      "from sklearn.naive_bayes import MultinomialNB \n",
      "\n",
      "MNB = MultinomialNB(alpha = 10)\n",
      "MNB.fit(X_split1,y_split1)\n",
      "y_predict1 = MNB.predict(X_split1)\n",
      "y_predict2 = MNB.predict(X_split2)\n",
      "metrics.classification_report(y_split1, y_predict1)  \n",
      "print MNB.score(X_split1,y_split1)\n",
      "print MNB.score(X_split2,y_split2)\n",
      "print metrics.classification_report(y_split1, y_predict1)\n",
      "print metrics.classification_report(y_split2, y_predict2)"
     ],
     "language": "python",
     "metadata": {},
     "outputs": []
    },
    {
     "cell_type": "code",
     "collapsed": false,
     "input": [
      "# from sklearn.ensemble import AdaBoostClassifier \n",
      "\n",
      "# MNB = AdaBoostClassifier()\n",
      "# MNB.fit(X_split1,y_split1)\n",
      "# y_predict1 = MNB.predict(X_split1)\n",
      "# y_predict2 = MNB.predict(X_split2)\n",
      "# metrics.classification_report(y_split1, y_predict1)  \n",
      "# print MNB.score(X_split1,y_split1)\n",
      "# print MNB.score(X_split2,y_split2)\n",
      "# print metrics.classification_report(y_split1, y_predict1)\n",
      "# print metrics.classification_report(y_split2, y_predict2)"
     ],
     "language": "python",
     "metadata": {},
     "outputs": []
    },
    {
     "cell_type": "code",
     "collapsed": false,
     "input": [
      "from sklearn.ensemble import RandomForestClassifier  \n",
      "RF = RandomForestClassifier(min_samples_split=1000)\n",
      "\n",
      "\n",
      "RF.fit(X_split1,y_split1)\n",
      "y_predict1 = RF.predict(X_split1)\n",
      "y_predict2 = RF.predict(X_split2)\n",
      "metrics.classification_report(y_split1, y_predict1)  \n",
      "print RF.score(X_split1,y_split1)\n",
      "print RF.score(X_split2,y_split2)\n",
      "print metrics.classification_report(y_split1, y_predict1)\n",
      "print metrics.classification_report(y_split2, y_predict2)\n",
      "# importance = zip(RF.feature_importances_, features)\n",
      "# for rank in sorted(importance, key=lambda x: x[0], reverse=True):\n",
      "#     print rank\n",
      "# plt.scatter(training_X[:,1], training_y)\n",
      "# predict_all = RF.predict(training_X) \n",
      "# plt.hold\n",
      "# plt.scatter(training_X[:,1],predict_all,color='r')\n",
      "# plt.show()"
     ],
     "language": "python",
     "metadata": {},
     "outputs": []
    },
    {
     "cell_type": "code",
     "collapsed": false,
     "input": [
      "# from sklearn.linear_model import LogisticRegression  \n",
      "# LR = LogisticRegression(penalty ='l1',C=0.001)\n",
      "\n",
      "# LR.fit(X_split1,y_split1)\n",
      "# y_predict1 = LR.predict(X_split1)\n",
      "# y_predict2 = LR.predict(X_split2)\n",
      "# metrics.classification_report(y_split1, y_predict1)  \n",
      "# print LR.score(X_split1,y_split1)\n",
      "# print LR.score(X_split2,y_split2)\n",
      "# print metrics.classification_report(y_split1, y_predict1)\n",
      "# print metrics.classification_report(y_split2, y_predict2)\n",
      "# # importance = zip(RF.feature_importances_, features)\n",
      "# # for rank in sorted(importance, key=lambda x: x[0], reverse=True):\n",
      "# #     print rank\n",
      "# # plt.scatter(training_X[:,1], training_y)\n",
      "# # predict_all = RF.predict(training_X) \n",
      "# # plt.hold\n",
      "# # plt.scatter(training_X[:,1],predict_all,color='r')\n"
     ],
     "language": "python",
     "metadata": {},
     "outputs": []
    },
    {
     "cell_type": "code",
     "collapsed": false,
     "input": [
      "n_components = 16\n",
      "plot_PCAS(sun_discs, cmes, n_components, 'PCA')"
     ],
     "language": "python",
     "metadata": {},
     "outputs": []
    },
    {
     "cell_type": "code",
     "collapsed": false,
     "input": [
      "# n_components = 9\n",
      "# plot_PCAS(sun_discs, quiet, n_components)\n",
      "# n_components = 9\n",
      "# plot_PCAS(sun_discs, halos, n_components)"
     ],
     "language": "python",
     "metadata": {},
     "outputs": []
    },
    {
     "cell_type": "code",
     "collapsed": false,
     "input": [
      "# plt.scatter(months[cmes==1], cmes[cmes==1])\n",
      "# plt.show()"
     ],
     "language": "python",
     "metadata": {},
     "outputs": []
    },
    {
     "cell_type": "code",
     "collapsed": false,
     "input": [],
     "language": "python",
     "metadata": {},
     "outputs": []
    }
   ],
   "metadata": {}
  }
 ]
}
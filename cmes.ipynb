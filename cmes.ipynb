{
 "metadata": {
  "name": "",
  "signature": "sha256:09db9bd4b1b6ad2b5f8b9d38255b4fe4c2f69d24c63b8c097a2ec81d7ae3caed"
 },
 "nbformat": 3,
 "nbformat_minor": 0,
 "worksheets": [
  {
   "cells": [
    {
     "cell_type": "code",
     "collapsed": false,
     "input": [
      "import pandas as pd\n",
      "from sklearn import tree\n",
      "import numpy as np\n",
      "import matplotlib.pyplot as plt\n",
      "%matplotlib inline\n",
      "\n",
      "def strip(text):\n",
      "    try:\n",
      "        return text.strip()\n",
      "    except AttributeError:\n",
      "        return text\n",
      "\n",
      "# IMPORT DATA\n",
      "df_cmes = pd.read_csv(\"cactus_cmes.md\", sep='|',delim_whitespace=False,\n",
      "    converters = {'CME' : strip,\n",
      "                    'Flow' : strip,\n",
      "                    't0' : strip,\n",
      "                    'dt0' : strip,\n",
      "                    'pa' : strip,\n",
      "                    'da' : strip,\n",
      "                    'v' : strip,     \n",
      "                    'dv' : strip,\n",
      "                    'minv' : strip,\n",
      "                    'maxv' : strip,     \n",
      "                    'halo' : strip})"
     ],
     "language": "python",
     "metadata": {},
     "outputs": [],
     "prompt_number": 1
    },
    {
     "cell_type": "code",
     "collapsed": false,
     "input": [
      "#    CME: CME number \n",
      "#   Flow: Flow number. Flows are suspicious detections, their color in the detectionmap is dark blue\n",
      "#     t0: onset time, earliest indication of liftoff\n",
      "#    dt0: duration of liftoff (hours)\n",
      "#     pa: principal angle, counterclockwise from North (degrees)\n",
      "#     da: angular width (degrees), \n",
      "#      v: median velocity (km/s)\n",
      "#     dv: variation (1 sigma) of velocity over the width of the CME\n",
      "#   minv: lowest velocity detected within the CME\n",
      "#   maxv: highest velocity detected within the CME\n",
      "#  halo?: II if da>90, III if da>180, IV if da>270, indicating potential halo/partial halo CME"
     ],
     "language": "python",
     "metadata": {},
     "outputs": [],
     "prompt_number": 2
    },
    {
     "cell_type": "code",
     "collapsed": false,
     "input": [
      "df_cmes = df_cmes.replace(to_replace='', value=0)\n",
      "df_cmes.ix[df_cmes.halo != 0,'halo'] = 1"
     ],
     "language": "python",
     "metadata": {},
     "outputs": [],
     "prompt_number": 4
    },
    {
     "cell_type": "code",
     "collapsed": false,
     "input": [
      "df_cmes[['year','month','day','hour','minute']] = df_cmes.t0.str.extract('(\\d\\d\\d\\d)/(\\d\\d)/(\\d\\d) (\\d\\d):(\\d\\d)')\n",
      "df_cmes.drop('t0',axis=1, inplace=True)\n",
      "for feature in df_cmes.columns:\n",
      "    df_cmes[feature] = df_cmes[feature].astype(int)"
     ],
     "language": "python",
     "metadata": {},
     "outputs": [],
     "prompt_number": 5
    },
    {
     "cell_type": "code",
     "collapsed": false,
     "input": [
      "df_ssn = pd.read_csv(\"issn.md\")\n",
      "df_ssn.drop('pi', axis=1,inplace=True)\n",
      "df_ssn.drop('decimal_date',axis=1,inplace=True)\n",
      "for feature in df_ssn.columns:\n",
      "    df_ssn[feature] = df_ssn[feature].astype(int)"
     ],
     "language": "python",
     "metadata": {},
     "outputs": [],
     "prompt_number": 6
    },
    {
     "cell_type": "code",
     "collapsed": false,
     "input": [
      "df_ssn.info()"
     ],
     "language": "python",
     "metadata": {},
     "outputs": [
      {
       "output_type": "stream",
       "stream": "stdout",
       "text": [
        "<class 'pandas.core.frame.DataFrame'>\n",
        "Int64Index: 71800 entries, 0 to 71799\n",
        "Data columns (total 4 columns):\n",
        "year     71800 non-null int64\n",
        "month    71800 non-null int64\n",
        "day      71800 non-null int64\n",
        "ssn      71800 non-null int64\n",
        "dtypes: int64(4)"
       ]
      }
     ],
     "prompt_number": 7
    },
    {
     "cell_type": "code",
     "collapsed": false,
     "input": [
      "df_cmes.info()"
     ],
     "language": "python",
     "metadata": {},
     "outputs": [
      {
       "output_type": "stream",
       "stream": "stdout",
       "text": [
        "<class 'pandas.core.frame.DataFrame'>\n",
        "Int64Index: 13934 entries, 0 to 13933\n",
        "Data columns (total 14 columns):\n",
        "CME       13934 non-null int64\n",
        "dt0       13934 non-null int64\n",
        "pa        13934 non-null int64\n",
        "da        13934 non-null int64\n",
        "v         13934 non-null int64\n",
        "dv        13934 non-null int64\n",
        "minv      13934 non-null int64\n",
        "maxv      13934 non-null int64\n",
        "halo      13934 non-null int64\n",
        "year      13934 non-null int64\n",
        "month     13934 non-null int64\n",
        "day       13934 non-null int64\n",
        "hour      13934 non-null int64\n",
        "minute    13934 non-null int64\n",
        "dtypes: int64(14)"
       ]
      }
     ],
     "prompt_number": 8
    },
    {
     "cell_type": "code",
     "collapsed": false,
     "input": [
      "df_merge = pd.merge(df_ssn,df_cmes,how='left',on=['year','month','day'])"
     ],
     "language": "python",
     "metadata": {},
     "outputs": [],
     "prompt_number": 9
    },
    {
     "cell_type": "code",
     "collapsed": false,
     "input": [
      "df_merge.dropna(axis=0, inplace=True)"
     ],
     "language": "python",
     "metadata": {},
     "outputs": [],
     "prompt_number": 10
    },
    {
     "cell_type": "code",
     "collapsed": false,
     "input": [
      "df_merge.head()"
     ],
     "language": "python",
     "metadata": {},
     "outputs": [
      {
       "html": [
        "<div style=\"max-height:1000px;max-width:1500px;overflow:auto;\">\n",
        "<table border=\"1\" class=\"dataframe\">\n",
        "  <thead>\n",
        "    <tr style=\"text-align: right;\">\n",
        "      <th></th>\n",
        "      <th>year</th>\n",
        "      <th>month</th>\n",
        "      <th>day</th>\n",
        "      <th>ssn</th>\n",
        "      <th>CME</th>\n",
        "      <th>dt0</th>\n",
        "      <th>pa</th>\n",
        "      <th>da</th>\n",
        "      <th>v</th>\n",
        "      <th>dv</th>\n",
        "      <th>minv</th>\n",
        "      <th>maxv</th>\n",
        "      <th>halo</th>\n",
        "      <th>hour</th>\n",
        "      <th>minute</th>\n",
        "    </tr>\n",
        "  </thead>\n",
        "  <tbody>\n",
        "    <tr>\n",
        "      <th>65515</th>\n",
        "      <td> 1997</td>\n",
        "      <td> 5</td>\n",
        "      <td> 17</td>\n",
        "      <td> 17</td>\n",
        "      <td> 1</td>\n",
        "      <td> 1</td>\n",
        "      <td> 101</td>\n",
        "      <td> 20</td>\n",
        "      <td> 1200</td>\n",
        "      <td> 210</td>\n",
        "      <td> 961</td>\n",
        "      <td> 1490</td>\n",
        "      <td> 0</td>\n",
        "      <td>  2</td>\n",
        "      <td> 41</td>\n",
        "    </tr>\n",
        "    <tr>\n",
        "      <th>65516</th>\n",
        "      <td> 1997</td>\n",
        "      <td> 5</td>\n",
        "      <td> 17</td>\n",
        "      <td> 17</td>\n",
        "      <td> 2</td>\n",
        "      <td> 2</td>\n",
        "      <td>  89</td>\n",
        "      <td> 24</td>\n",
        "      <td> 1239</td>\n",
        "      <td> 343</td>\n",
        "      <td> 557</td>\n",
        "      <td> 1491</td>\n",
        "      <td> 0</td>\n",
        "      <td> 10</td>\n",
        "      <td> 21</td>\n",
        "    </tr>\n",
        "    <tr>\n",
        "      <th>65537</th>\n",
        "      <td> 1997</td>\n",
        "      <td> 6</td>\n",
        "      <td>  7</td>\n",
        "      <td> 12</td>\n",
        "      <td> 1</td>\n",
        "      <td> 0</td>\n",
        "      <td> 264</td>\n",
        "      <td> 10</td>\n",
        "      <td>  156</td>\n",
        "      <td> 565</td>\n",
        "      <td> 155</td>\n",
        "      <td> 1136</td>\n",
        "      <td> 0</td>\n",
        "      <td> 22</td>\n",
        "      <td> 33</td>\n",
        "    </tr>\n",
        "    <tr>\n",
        "      <th>65558</th>\n",
        "      <td> 1997</td>\n",
        "      <td> 6</td>\n",
        "      <td> 28</td>\n",
        "      <td>  8</td>\n",
        "      <td> 2</td>\n",
        "      <td> 3</td>\n",
        "      <td>  73</td>\n",
        "      <td> 12</td>\n",
        "      <td>  209</td>\n",
        "      <td>  21</td>\n",
        "      <td> 192</td>\n",
        "      <td>  255</td>\n",
        "      <td> 0</td>\n",
        "      <td> 16</td>\n",
        "      <td> 24</td>\n",
        "    </tr>\n",
        "    <tr>\n",
        "      <th>65559</th>\n",
        "      <td> 1997</td>\n",
        "      <td> 6</td>\n",
        "      <td> 29</td>\n",
        "      <td>  8</td>\n",
        "      <td> 3</td>\n",
        "      <td> 5</td>\n",
        "      <td> 284</td>\n",
        "      <td> 10</td>\n",
        "      <td>  283</td>\n",
        "      <td>  18</td>\n",
        "      <td> 260</td>\n",
        "      <td>  299</td>\n",
        "      <td> 0</td>\n",
        "      <td> 16</td>\n",
        "      <td>  5</td>\n",
        "    </tr>\n",
        "  </tbody>\n",
        "</table>\n",
        "<p>5 rows \u00d7 15 columns</p>\n",
        "</div>"
       ],
       "metadata": {},
       "output_type": "pyout",
       "prompt_number": 14,
       "text": [
        "       year  month  day  ssn  CME  dt0   pa  da     v   dv  minv  maxv  halo  \\\n",
        "65515  1997      5   17   17    1    1  101  20  1200  210   961  1490     0   \n",
        "65516  1997      5   17   17    2    2   89  24  1239  343   557  1491     0   \n",
        "65537  1997      6    7   12    1    0  264  10   156  565   155  1136     0   \n",
        "65558  1997      6   28    8    2    3   73  12   209   21   192   255     0   \n",
        "65559  1997      6   29    8    3    5  284  10   283   18   260   299     0   \n",
        "\n",
        "       hour  minute  \n",
        "65515     2      41  \n",
        "65516    10      21  \n",
        "65537    22      33  \n",
        "65558    16      24  \n",
        "65559    16       5  \n",
        "\n",
        "[5 rows x 15 columns]"
       ]
      }
     ],
     "prompt_number": 14
    },
    {
     "cell_type": "code",
     "collapsed": false,
     "input": [
      "features = 'ssn'\n",
      "\n",
      "training_X = df_merge[features].values\n",
      "training_y = df_merge['halo'].values\n",
      "\n",
      "# CLASSIFY WITH A ML ALGORITHM\n",
      "\n",
      "# SCORE IT\n",
      "from sklearn import metrics\n",
      "from sklearn.cross_validation import cross_val_score\n",
      "from sklearn.cross_validation import train_test_split\n",
      "from sklearn.preprocessing import scale\n",
      "\n",
      "X_split1, X_split2, y_split1, y_split2 = train_test_split(training_X, training_y, test_size=0.35, random_state=42)\n"
     ],
     "language": "python",
     "metadata": {},
     "outputs": [],
     "prompt_number": 15
    },
    {
     "cell_type": "code",
     "collapsed": false,
     "input": [
      "from sklearn.ensemble import RandomForestClassifier  \n",
      "\n",
      "RF = RandomForestClassifier ()\n",
      "RF.fit(X_split1,y_split1)\n",
      "y_predict1 = RF.predict(X_split1)\n",
      "f11 = metrics.f1_score(y_predict1,y_split1)\n",
      "y_predict2 = RF.predict(X_split2)\n",
      "f12 = metrics.f1_score(y_predict2,y_split2)\n",
      "print 'Split1 F1: ' + str(f11)\n",
      "print 'Split2 F1: ' + str(f12)\n",
      "metrics.classification_report(y_split1, y_predict1)    \n",
      "print metrics.classification_report(y_split1, y_predict1)\n",
      "print metrics.classification_report(y_split2, y_predict2)"
     ],
     "language": "python",
     "metadata": {},
     "outputs": [
      {
       "ename": "ValueError",
       "evalue": "need more than 1 value to unpack",
       "output_type": "pyerr",
       "traceback": [
        "\u001b[0;31m---------------------------------------------------------------------------\u001b[0m\n\u001b[0;31mValueError\u001b[0m                                Traceback (most recent call last)",
        "\u001b[0;32m<ipython-input-17-ea3496b108ca>\u001b[0m in \u001b[0;36m<module>\u001b[0;34m()\u001b[0m\n\u001b[1;32m      2\u001b[0m \u001b[0;34m\u001b[0m\u001b[0m\n\u001b[1;32m      3\u001b[0m \u001b[0mRF\u001b[0m \u001b[0;34m=\u001b[0m \u001b[0mRandomForestClassifier\u001b[0m \u001b[0;34m(\u001b[0m\u001b[0;34m)\u001b[0m\u001b[0;34m\u001b[0m\u001b[0m\n\u001b[0;32m----> 4\u001b[0;31m \u001b[0mRF\u001b[0m\u001b[0;34m.\u001b[0m\u001b[0mfit\u001b[0m\u001b[0;34m(\u001b[0m\u001b[0mX_split1\u001b[0m\u001b[0;34m,\u001b[0m\u001b[0my_split1\u001b[0m\u001b[0;34m)\u001b[0m\u001b[0;34m\u001b[0m\u001b[0m\n\u001b[0m\u001b[1;32m      5\u001b[0m \u001b[0my_predict1\u001b[0m \u001b[0;34m=\u001b[0m \u001b[0mRF\u001b[0m\u001b[0;34m.\u001b[0m\u001b[0mpredict\u001b[0m\u001b[0;34m(\u001b[0m\u001b[0mX_split1\u001b[0m\u001b[0;34m)\u001b[0m\u001b[0;34m\u001b[0m\u001b[0m\n\u001b[1;32m      6\u001b[0m \u001b[0mf11\u001b[0m \u001b[0;34m=\u001b[0m \u001b[0mmetrics\u001b[0m\u001b[0;34m.\u001b[0m\u001b[0mf1_score\u001b[0m\u001b[0;34m(\u001b[0m\u001b[0my_predict1\u001b[0m\u001b[0;34m,\u001b[0m\u001b[0my_split1\u001b[0m\u001b[0;34m)\u001b[0m\u001b[0;34m\u001b[0m\u001b[0m\n",
        "\u001b[0;32m/Users/dino/anaconda/lib/python2.7/site-packages/sklearn/ensemble/forest.pyc\u001b[0m in \u001b[0;36mfit\u001b[0;34m(self, X, y, sample_weight)\u001b[0m\n\u001b[1;32m    225\u001b[0m \u001b[0;34m\u001b[0m\u001b[0m\n\u001b[1;32m    226\u001b[0m         \u001b[0;31m# Remap output\u001b[0m\u001b[0;34m\u001b[0m\u001b[0;34m\u001b[0m\u001b[0m\n\u001b[0;32m--> 227\u001b[0;31m         \u001b[0mn_samples\u001b[0m\u001b[0;34m,\u001b[0m \u001b[0mself\u001b[0m\u001b[0;34m.\u001b[0m\u001b[0mn_features_\u001b[0m \u001b[0;34m=\u001b[0m \u001b[0mX\u001b[0m\u001b[0;34m.\u001b[0m\u001b[0mshape\u001b[0m\u001b[0;34m\u001b[0m\u001b[0m\n\u001b[0m\u001b[1;32m    228\u001b[0m \u001b[0;34m\u001b[0m\u001b[0m\n\u001b[1;32m    229\u001b[0m         \u001b[0my\u001b[0m \u001b[0;34m=\u001b[0m \u001b[0mnp\u001b[0m\u001b[0;34m.\u001b[0m\u001b[0matleast_1d\u001b[0m\u001b[0;34m(\u001b[0m\u001b[0my\u001b[0m\u001b[0;34m)\u001b[0m\u001b[0;34m\u001b[0m\u001b[0m\n",
        "\u001b[0;31mValueError\u001b[0m: need more than 1 value to unpack"
       ]
      }
     ],
     "prompt_number": 17
    },
    {
     "cell_type": "code",
     "collapsed": false,
     "input": [
      "from sklearn.linear_model import LogisticRegression\n",
      "\n",
      "LR = LogisticRegression(C=1)\n",
      "LR.fit(X_split1,y_split1)\n",
      "y_predict1 = LR.predict(X_split1)\n",
      "f11 = metrics.f1_score(y_predict1,y_split1)\n",
      "y_predict2 = LR.predict(X_split2)\n",
      "f12 = metrics.f1_score(y_predict2,y_split2)\n",
      "print 'Split1 F1: ' + str(f11)\n",
      "print 'Split2 F1: ' + str(f12)\n",
      "metrics.classification_report(y_split1, y_predict1)    \n",
      "print metrics.classification_report(y_split1, y_predict1)\n",
      "print metrics.classification_report(y_split2, y_predict2)"
     ],
     "language": "python",
     "metadata": {},
     "outputs": [
      {
       "ename": "ValueError",
       "evalue": "X and y have incompatible shapes.\nX has 1 samples, but y has 9057.",
       "output_type": "pyerr",
       "traceback": [
        "\u001b[0;31m---------------------------------------------------------------------------\u001b[0m\n\u001b[0;31mValueError\u001b[0m                                Traceback (most recent call last)",
        "\u001b[0;32m<ipython-input-18-9b083ed4ab5e>\u001b[0m in \u001b[0;36m<module>\u001b[0;34m()\u001b[0m\n\u001b[1;32m      2\u001b[0m \u001b[0;34m\u001b[0m\u001b[0m\n\u001b[1;32m      3\u001b[0m \u001b[0mLR\u001b[0m \u001b[0;34m=\u001b[0m \u001b[0mLogisticRegression\u001b[0m\u001b[0;34m(\u001b[0m\u001b[0mC\u001b[0m\u001b[0;34m=\u001b[0m\u001b[0;36m1\u001b[0m\u001b[0;34m)\u001b[0m\u001b[0;34m\u001b[0m\u001b[0m\n\u001b[0;32m----> 4\u001b[0;31m \u001b[0mLR\u001b[0m\u001b[0;34m.\u001b[0m\u001b[0mfit\u001b[0m\u001b[0;34m(\u001b[0m\u001b[0mX_split1\u001b[0m\u001b[0;34m,\u001b[0m\u001b[0my_split1\u001b[0m\u001b[0;34m)\u001b[0m\u001b[0;34m\u001b[0m\u001b[0m\n\u001b[0m\u001b[1;32m      5\u001b[0m \u001b[0my_predict1\u001b[0m \u001b[0;34m=\u001b[0m \u001b[0mLR\u001b[0m\u001b[0;34m.\u001b[0m\u001b[0mpredict\u001b[0m\u001b[0;34m(\u001b[0m\u001b[0mX_split1\u001b[0m\u001b[0;34m)\u001b[0m\u001b[0;34m\u001b[0m\u001b[0m\n\u001b[1;32m      6\u001b[0m \u001b[0mf11\u001b[0m \u001b[0;34m=\u001b[0m \u001b[0mmetrics\u001b[0m\u001b[0;34m.\u001b[0m\u001b[0mf1_score\u001b[0m\u001b[0;34m(\u001b[0m\u001b[0my_predict1\u001b[0m\u001b[0;34m,\u001b[0m\u001b[0my_split1\u001b[0m\u001b[0;34m)\u001b[0m\u001b[0;34m\u001b[0m\u001b[0m\n",
        "\u001b[0;32m/Users/dino/anaconda/lib/python2.7/site-packages/sklearn/svm/base.pyc\u001b[0m in \u001b[0;36mfit\u001b[0;34m(self, X, y)\u001b[0m\n\u001b[1;32m    685\u001b[0m             raise ValueError(\"X and y have incompatible shapes.\\n\"\n\u001b[1;32m    686\u001b[0m                              \u001b[0;34m\"X has %s samples, but y has %s.\"\u001b[0m \u001b[0;34m%\u001b[0m\u001b[0;34m\u001b[0m\u001b[0m\n\u001b[0;32m--> 687\u001b[0;31m                              (X.shape[0], y_ind.shape[0]))\n\u001b[0m\u001b[1;32m    688\u001b[0m \u001b[0;34m\u001b[0m\u001b[0m\n\u001b[1;32m    689\u001b[0m         \u001b[0mliblinear\u001b[0m\u001b[0;34m.\u001b[0m\u001b[0mset_verbosity_wrap\u001b[0m\u001b[0;34m(\u001b[0m\u001b[0mself\u001b[0m\u001b[0;34m.\u001b[0m\u001b[0mverbose\u001b[0m\u001b[0;34m)\u001b[0m\u001b[0;34m\u001b[0m\u001b[0m\n",
        "\u001b[0;31mValueError\u001b[0m: X and y have incompatible shapes.\nX has 1 samples, but y has 9057."
       ]
      }
     ],
     "prompt_number": 18
    },
    {
     "cell_type": "code",
     "collapsed": false,
     "input": [],
     "language": "python",
     "metadata": {},
     "outputs": []
    }
   ],
   "metadata": {}
  }
 ]
}
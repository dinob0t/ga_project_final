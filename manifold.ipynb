{
 "metadata": {
  "name": "",
  "signature": "sha256:3007c33f018fc1cf4968295c0e1e008f2fea74a1e0710ad9174c51960ed40743"
 },
 "nbformat": 3,
 "nbformat_minor": 0,
 "worksheets": [
  {
   "cells": [
    {
     "cell_type": "code",
     "collapsed": false,
     "input": [
      "from time import time\n",
      "import numpy as np\n",
      "import pandas as pd\n",
      "import matplotlib.pyplot as plt\n",
      "import os\n",
      "import Image as im\n",
      "import datetime as dt\n",
      "\n",
      "# Images in file\n",
      "basedir = 'data/all_256/'\n",
      "flist = os.listdir(basedir)\n",
      "flist = sorted(flist)\n",
      "num_images = len(flist)\n",
      "\n",
      "# Create mask array to select only within solar disk\n",
      "def make_sun_mask(centre, radius, image_size):\n",
      "    sun_mask = np.zeros([image_size,image_size], dtype=np.uint8)\n",
      "    for i in range(image_size):\n",
      "        for j in range(image_size):\n",
      "            dist = np.sqrt((centre[0] - i)**2 + (centre[1] - j)**2)\n",
      "            if dist<= radius:\n",
      "                sun_mask[i,j] = 1\n",
      "    return sun_mask\n",
      "# Make sun mask\n",
      "# Hi-res images\n",
      "# image_size = 512\n",
      "# centre = (255,255)\n",
      "# radius = 472/2\n",
      "\n",
      "# Low-res images\n",
      "image_size = 256\n",
      "centre = (127.5,127.5)\n",
      "radius = 234/2.0\n",
      "\n",
      "sun_mask = make_sun_mask(centre, radius, image_size)\n",
      "# Flatten array\n",
      "# sun_mask = np.ravel(sun_mask)"
     ],
     "language": "python",
     "metadata": {},
     "outputs": [],
     "prompt_number": 1
    },
    {
     "cell_type": "code",
     "collapsed": false,
     "input": [
      "# Initialise arrays\n",
      "years = np.zeros(num_images, dtype=np.uint16)\n",
      "months = np.zeros(num_images, dtype=np.uint8)\n",
      "days = np.zeros(num_images, dtype=np.uint8)\n",
      "hours = np.zeros(num_images, dtype=np.uint8)\n",
      "minutes = np.zeros(num_images, dtype=np.uint8)\n",
      "# sun_discs = np.zeros([num_images,sum(sun_mask)], dtype=np.int8)"
     ],
     "language": "python",
     "metadata": {},
     "outputs": [],
     "prompt_number": 2
    },
    {
     "cell_type": "code",
     "collapsed": false,
     "input": [
      "# Get all vector magnetogram files\n",
      "count = 0\n",
      "for image_file in flist:    \n",
      "    years[count] = image_file[0:4]\n",
      "    months[count] = image_file[4:6]\n",
      "    days[count] = image_file[6:8]\n",
      "    hours[count] = image_file[9:11]\n",
      "    minutes[count] = image_file[11:13]\n",
      "    \n",
      "    cur_file = basedir + image_file  \n",
      "    # Read image, convert to greyscale, convert to np array\n",
      "    cur_image = np.asarray(im.open(cur_file).convert('L'))\n",
      "    break\n",
      "#     cur_image = np.ravel(cur_image)\n",
      "#     cur_image = cur_image[sun_mask == 1]\n",
      "#     # Subtract off mean for PCA later\n",
      "#     sun_discs[count,:] = cur_image\n",
      "#     if count%10000 == 0 and count > 0:\n",
      "#         print str(count) + ' of ' + str(num_images) +' , File: '+ image_file \n",
      "#     count +=1 \n",
      "# print 'Done'\n",
      "# column_mean = np.mean(sun_discs, axis = 0)\n",
      "# for i in range(num_images):\n",
      "#     sun_discs[i,:] = sun_discs[i,:] - column_mean\n",
      "#     if i%1000 == 0:\n",
      "#         print i\n",
      "# np.save('data/notebook_data/sun_discs',sun_discs)"
     ],
     "language": "python",
     "metadata": {},
     "outputs": [],
     "prompt_number": 3
    },
    {
     "cell_type": "code",
     "collapsed": false,
     "input": [
      "import matplotlib.cm as cm\n",
      "fig = plt.figure(figsize=(15, 8))\n",
      "ax = fig.add_subplot(331)\n",
      "ax.imshow(cur_image)#cmap=cm.Greys\n"
     ],
     "language": "python",
     "metadata": {},
     "outputs": [
      {
       "metadata": {},
       "output_type": "pyout",
       "prompt_number": 4,
       "text": [
        "<matplotlib.image.AxesImage at 0x109f30050>"
       ]
      }
     ],
     "prompt_number": 4
    },
    {
     "cell_type": "code",
     "collapsed": false,
     "input": [
      "# Create mask array to select only within solar disk\n",
      "def sun_image_to_3D_array(image, sun_mask):\n",
      "    image_size = sun_mask.shape[0]\n",
      "    sun_image_3D = np.zeros([np.sum(sun_mask), 3], dtype=np.uint8)\n",
      "    count = 0\n",
      "    for i in range(image_size):\n",
      "        for j in range(image_size):\n",
      "            if sun_mask[i,j] == 1:\n",
      "                sun_image_3D[count,0] = i\n",
      "                sun_image_3D[count,1] = j\n",
      "                sun_image_3D[count,2] = image[i,j]\n",
      "                count +=1\n",
      "            \n",
      "    sun_image_3D = sun_image_3D - np.mean(sun_image_3D,axis=0)\n",
      "    return sun_image_3D"
     ],
     "language": "python",
     "metadata": {},
     "outputs": [],
     "prompt_number": 5
    },
    {
     "cell_type": "code",
     "collapsed": false,
     "input": [
      "X = sun_image_to_3D_array(cur_image,sun_mask)"
     ],
     "language": "python",
     "metadata": {},
     "outputs": [],
     "prompt_number": 6
    },
    {
     "cell_type": "code",
     "collapsed": false,
     "input": [
      "from mpl_toolkits.mplot3d import Axes3D\n",
      "# fig = plt.figure(figsize=(15, 8))\n",
      "ax = fig.add_subplot(332, projection='3d')\n",
      "ax.scatter(X[:,0],X[:,1],X[:,2],c=X[:,2])# cmap = cm.Greys_r\n",
      "ax.set_aspect('equal')\n",
      "# plt.show()"
     ],
     "language": "python",
     "metadata": {},
     "outputs": []
    },
    {
     "cell_type": "code",
     "collapsed": false,
     "input": [
      "from sklearn import manifold\n",
      "\n",
      "n_neighbors = 3\n",
      "n_components = 2\n",
      "methods = ['standard', 'ltsa', 'hessian', 'modified']\n",
      "count = 0\n",
      "# for n_neighbors in range(3,8):\n",
      "# for method in methods:\n",
      "\n",
      "Y = manifold.LocallyLinearEmbedding(n_neighbors, n_components,\n",
      "                                            eigen_solver='auto',\n",
      "                                            method='ltsa').fit_transform(X)\n",
      "# mds = manifold.MDS(n_components, max_iter=100, n_init=1)\n",
      "# Y = mds.fit_transform(X)\n",
      "\n",
      "ax = fig.add_subplot(333+count)\n",
      "ax.scatter(Y[:,0],Y[:,1],c=X[:,2])#, cmap = cm.Greys_r\n",
      "ax.set_aspect('equal')\n",
      "count +=1\n",
      "\n",
      "plt.show()"
     ],
     "language": "python",
     "metadata": {},
     "outputs": []
    },
    {
     "cell_type": "code",
     "collapsed": false,
     "input": [],
     "language": "python",
     "metadata": {},
     "outputs": []
    }
   ],
   "metadata": {}
  }
 ]
}